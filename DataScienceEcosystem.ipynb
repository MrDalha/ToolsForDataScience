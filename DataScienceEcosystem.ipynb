{
 "cells": [
  {
   "cell_type": "markdown",
   "id": "1d081d1d-2e17-4fe5-ad7a-9cf1602e7559",
   "metadata": {},
   "source": [
    "# Data Science Tools and Ecosystem"
   ]
  },
  {
   "cell_type": "markdown",
   "id": "6eeba473-5939-4372-8e5e-5ab6767bb6e9",
   "metadata": {},
   "source": [
    "#### In this notebook, Data Science Tools and Ecosystem are summarized. Different types of polpular data science tools and what scenario best suit each tool are discussed. Some data science tools are open source while others are commercial tools. "
   ]
  },
  {
   "cell_type": "markdown",
   "id": "68c5fbde-5d56-44d1-a492-cd0eda18c4d4",
   "metadata": {},
   "source": [
    "#### **Objectives:**\n",
    "- List popular languages for Data Science\n",
    "- List Data Science libraries\n",
    "- create a table of Data Science tools in a Markdown\n",
    "- Write a code to convert minutes to hours\n",
    "- Write a code to add and multiply numbers\n"
   ]
  },
  {
   "cell_type": "markdown",
   "id": "e229c893-d0e9-4b3b-84ea-f2eb3f53e9a0",
   "metadata": {},
   "source": [
    "#### Some of the popular languages that Data Scientists use are:\n",
    "1. Python\n",
    "2. R\n",
    "3. SQL\n",
    "4. Java\n",
    "5. JavaScript\n",
    "6. C++\n",
    "7. Scala\n",
    "8. Julia"
   ]
  },
  {
   "cell_type": "markdown",
   "id": "bc29330d-2eee-4e4d-b7be-efb48f11b603",
   "metadata": {},
   "source": [
    "#### Some of the commonly used libraries used by Data Scientists include:\n",
    "1. Pandas\n",
    "2. NumPy\n",
    "3. Matplotlib\n",
    "4. Scikit-learn\n",
    "5. TensorFlow\n",
    "6. ApacheSpark"
   ]
  },
  {
   "cell_type": "markdown",
   "id": "26f9bc46-386a-4b2d-9299-130e2afa964f",
   "metadata": {},
   "source": [
    "| Data Science Tools |\n",
    "|--------------------|\n",
    "| Jupiter Notebook|\n",
    "|JupiterLab|\n",
    "|RStudio|\n",
    "|IBM Wtason Studio|"
   ]
  },
  {
   "cell_type": "markdown",
   "id": "c1cbd93a-5a6f-4e25-9a75-e77e0b53e413",
   "metadata": {},
   "source": [
    "### Below are a few examples of evaluating arithmetic expressions in Python\n",
    "x + y, \n",
    "x * z"
   ]
  },
  {
   "cell_type": "code",
   "execution_count": 6,
   "id": "e3513a69-7b28-4f50-9f14-3ca366f0465a",
   "metadata": {},
   "outputs": [
    {
     "data": {
      "text/plain": [
       "17"
      ]
     },
     "execution_count": 6,
     "metadata": {},
     "output_type": "execute_result"
    }
   ],
   "source": [
    "# This a simple arithmetic expression to mutiply then add integers\n",
    "(3*4)+5"
   ]
  },
  {
   "cell_type": "code",
   "execution_count": 7,
   "id": "01b93be5-af1e-4128-abad-682daab8f58c",
   "metadata": {},
   "outputs": [
    {
     "name": "stdout",
     "output_type": "stream",
     "text": [
      "3.3333333333333335 hrs\n"
     ]
    }
   ],
   "source": [
    "# This will convert 200 minutes to hours by dividing by 60\n",
    "x = 200\n",
    "y = x/60\n",
    "print(y,\"hrs\")"
   ]
  },
  {
   "cell_type": "markdown",
   "id": "2495f391-317c-4902-9cbc-1f5d7b795228",
   "metadata": {},
   "source": [
    "## Author\n",
    "Dalhatu Dalhatu Tijjani"
   ]
  },
  {
   "cell_type": "code",
   "execution_count": null,
   "id": "03ee2fa3-dbad-4ebf-b7fc-ea3f8988a0ce",
   "metadata": {},
   "outputs": [],
   "source": []
  }
 ],
 "metadata": {
  "kernelspec": {
   "display_name": "Python 3 (ipykernel)",
   "language": "python",
   "name": "python3"
  },
  "language_info": {
   "codemirror_mode": {
    "name": "ipython",
    "version": 3
   },
   "file_extension": ".py",
   "mimetype": "text/x-python",
   "name": "python",
   "nbconvert_exporter": "python",
   "pygments_lexer": "ipython3",
   "version": "3.10.9"
  }
 },
 "nbformat": 4,
 "nbformat_minor": 5
}
